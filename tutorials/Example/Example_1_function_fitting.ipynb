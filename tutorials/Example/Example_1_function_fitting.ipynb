{
 "cells": [
  {
   "cell_type": "markdown",
   "id": "5d904dee",
   "metadata": {},
   "source": [
    "# Example 1: Function Fitting\n",
    "\n",
    "In this example, we will cover how to leverage grid refinement to maximimze KANs' ability to fit functions"
   ]
  },
  {
   "cell_type": "markdown",
   "id": "94056ef6",
   "metadata": {},
   "source": [
    "intialize model and create dataset"
   ]
  },
  {
   "cell_type": "code",
   "execution_count": 7,
   "id": "0a59179d",
   "metadata": {},
   "outputs": [
    {
     "name": "stdout",
     "output_type": "stream",
     "text": [
      "cpu\n",
      "checkpoint directory created: ./model\n",
      "saving model version 0.0\n"
     ]
    }
   ],
   "source": [
    "from kan import *\n",
    "\n",
    "\n",
    "device = torch.device('cuda' if torch.cuda.is_available() else 'cpu')\n",
    "print(device)\n",
    "\n",
    "# initialize KAN with G=3\n",
    "#model = KAN(width=[2,[2,1],1], grid=100, k=3, device=device)\n",
    "model = KAN(width=[2,[5,5],1], grid=100, k=3, device=device)\n",
    "\n",
    "# create dataset\n",
    "a = 1\n",
    "b = 1\n",
    "f = lambda x: 1 - ((x[:,[0]]**2)/a**2) - ((x[:,[1]]**2)/b**2) - ((x[:,[0]]*x[:,[1]])/(a*b))\n",
    "dataset = create_dataset(f, n_var=2, ranges=[-100, 100], device=device)"
   ]
  },
  {
   "cell_type": "markdown",
   "id": "cb1f817e",
   "metadata": {},
   "source": [
    "Train KAN (grid=3)"
   ]
  },
  {
   "cell_type": "code",
   "execution_count": 8,
   "id": "a87b97b0",
   "metadata": {},
   "outputs": [
    {
     "name": "stderr",
     "output_type": "stream",
     "text": [
      "description:   0%|                                                          | 0/500 [00:00<?, ?it/s]"
     ]
    },
    {
     "name": "stderr",
     "output_type": "stream",
     "text": [
      "| train_loss: 1.53e+03 | test_loss: 1.62e+04 | reg: 3.21e+02 | : 100%|█| 500/500 [02:13<00:00,  3.76"
     ]
    },
    {
     "name": "stdout",
     "output_type": "stream",
     "text": [
      "saving model version 0.1\n"
     ]
    },
    {
     "name": "stderr",
     "output_type": "stream",
     "text": [
      "\n"
     ]
    }
   ],
   "source": [
    "model.fit(dataset, opt=\"LBFGS\", steps=500);"
   ]
  },
  {
   "cell_type": "markdown",
   "id": "52294efd",
   "metadata": {},
   "source": [
    "The loss plateaus. we want a more fine-grained KAN!"
   ]
  },
  {
   "cell_type": "code",
   "execution_count": 9,
   "id": "ec7a0b6b",
   "metadata": {},
   "outputs": [
    {
     "data": {
      "image/png": "[encoded data removed]",
      "text/plain": [
       "<Figure size 500x400 with 18 Axes>"
      ]
     },
     "metadata": {},
     "output_type": "display_data"
    }
   ],
   "source": [
    "model.plot()"
   ]
  },
  {
   "cell_type": "code",
   "execution_count": null,
   "id": "3f1cfc9d",
   "metadata": {},
   "outputs": [],
   "source": [
    "# initialize a more fine-grained KAN with G=10\n",
    "model = model.refine(10)"
   ]
  },
  {
   "cell_type": "markdown",
   "id": "f3cc5079",
   "metadata": {},
   "source": [
    "Train KAN (grid=10)"
   ]
  },
  {
   "cell_type": "code",
   "execution_count": null,
   "id": "898b1794",
   "metadata": {},
   "outputs": [],
   "source": [
    "\n",
    "model.fit(dataset, opt=\"LBFGS\", steps=20, update_grid=False);"
   ]
  },
  {
   "cell_type": "markdown",
   "id": "bcdc0d3d",
   "metadata": {},
   "source": [
    "The loss becomes lower. This is good! Now we can even iteratively making grids finer."
   ]
  },
  {
   "cell_type": "code",
   "execution_count": null,
   "id": "a4a44340",
   "metadata": {},
   "outputs": [],
   "source": [
    "model.plot()"
   ]
  },
  {
   "cell_type": "code",
   "execution_count": 10,
   "id": "915bc6f3",
   "metadata": {},
   "outputs": [
    {
     "data": {
      "text/plain": [
       "tensor(2336827.5000, grad_fn=<MeanBackward0>)"
      ]
     },
     "execution_count": 10,
     "metadata": {},
     "output_type": "execute_result"
    }
   ],
   "source": [
    "torch.mean((model(dataset['train_input'])-dataset['train_label'])**2)"
   ]
  },
  {
   "cell_type": "code",
   "execution_count": null,
   "id": "a1c25e8a",
   "metadata": {},
   "outputs": [],
   "source": [
    "grids = np.array([3,10,20,50,100])\n",
    "\n",
    "\n",
    "train_losses = []\n",
    "test_losses = []\n",
    "steps = 200\n",
    "k = 3\n",
    "\n",
    "for i in range(grids.shape[0]):\n",
    "    if i == 0:\n",
    "        model = KAN(width=[2,[2,1],1], grid=grids[i], k=k, seed=1, device=device)\n",
    "    if i != 0:\n",
    "        model = model.refine(grids[i])\n",
    "    results = model.fit(dataset, opt=\"LBFGS\", steps=steps)\n",
    "    train_losses += results['train_loss']\n",
    "    test_losses += results['test_loss']\n",
    "    "
   ]
  },
  {
   "cell_type": "markdown",
   "id": "6be8ba55",
   "metadata": {},
   "source": [
    "Training dynamics of losses display staircase structures (loss suddenly drops after grid refinement)"
   ]
  },
  {
   "cell_type": "code",
   "execution_count": null,
   "id": "6808c463",
   "metadata": {},
   "outputs": [],
   "source": [
    "results = model.fit(dataset, opt=\"LBFGS\", steps=1e4, update_grid=False)"
   ]
  },
  {
   "cell_type": "code",
   "execution_count": null,
   "id": "e0a4094d",
   "metadata": {},
   "outputs": [],
   "source": [
    "torch.mean((model(dataset['train_input'])-dataset['train_label'])**2)"
   ]
  },
  {
   "cell_type": "code",
   "execution_count": null,
   "id": "156f68a2",
   "metadata": {},
   "outputs": [],
   "source": [
    "plt.plot(train_losses)\n",
    "plt.plot(test_losses)\n",
    "plt.legend(['train', 'test'])\n",
    "plt.ylabel('RMSE')\n",
    "plt.xlabel('step')\n",
    "plt.yscale('log')"
   ]
  },
  {
   "cell_type": "markdown",
   "id": "6ed8d26b",
   "metadata": {},
   "source": [
    "Neural scaling laws (For some reason, this got worse than pykan 0.0. We're still investigating the reason, probably due to the updates of curve2coef)"
   ]
  },
  {
   "cell_type": "code",
   "execution_count": null,
   "id": "f30b6545",
   "metadata": {},
   "outputs": [],
   "source": [
    "x_trial = torch.tensor([[1. % 2*np.pi,1000.0]], device=device)\n",
    "print(model(x_trial))\n",
    "print(f(x_trial))"
   ]
  },
  {
   "cell_type": "code",
   "execution_count": null,
   "id": "8301085c",
   "metadata": {},
   "outputs": [],
   "source": [
    "n_params = 3 * grids\n",
    "train_vs_G = train_losses[(steps-1)::steps]\n",
    "test_vs_G = test_losses[(steps-1)::steps]\n",
    "plt.plot(n_params, train_vs_G, marker=\"o\")\n",
    "plt.plot(n_params, test_vs_G, marker=\"o\")\n",
    "plt.plot(n_params, 100*n_params**(-4.), ls=\"--\", color=\"black\")\n",
    "plt.xscale('log')\n",
    "plt.yscale('log')\n",
    "plt.legend(['train', 'test', r'$N^{-4}$'])\n",
    "plt.xlabel('number of params')\n",
    "plt.ylabel('RMSE')"
   ]
  },
  {
   "cell_type": "code",
   "execution_count": null,
   "id": "2c521e5e",
   "metadata": {},
   "outputs": [],
   "source": [
    "model.plot()"
   ]
  },
  {
   "cell_type": "code",
   "execution_count": null,
   "id": "c7e1cc89",
   "metadata": {},
   "outputs": [],
   "source": [
    "model.prune(node_th=1e-1, edge_th=0.1)\n",
    "model.plot()"
   ]
  },
  {
   "cell_type": "code",
   "execution_count": null,
   "id": "08a69be0",
   "metadata": {},
   "outputs": [],
   "source": [
    "torch.mean((model(dataset['train_input'])-dataset['train_label'])**2)"
   ]
  },
  {
   "cell_type": "code",
   "execution_count": null,
   "id": "250b2495",
   "metadata": {},
   "outputs": [],
   "source": [
    "lib = ['x','x^2','x^3','x^4','exp','log','sqrt','tanh','sin','tan','abs']\n",
    "model.auto_symbolic(lib=lib)\n",
    "formula = model.symbolic_formula()[0][0]\n",
    "ex_round(formula, 4)"
   ]
  },
  {
   "cell_type": "code",
   "execution_count": null,
   "id": "579aaac6",
   "metadata": {},
   "outputs": [],
   "source": []
  }
 ],
 "metadata": {
  "kernelspec": {
   "display_name": "Python 3 (ipykernel)",
   "language": "python",
   "name": "python3"
  },
  "language_info": {
   "codemirror_mode": {
    "name": "ipython",
    "version": 3
   },
   "file_extension": ".py",
   "mimetype": "text/x-python",
   "name": "python",
   "nbconvert_exporter": "python",
   "pygments_lexer": "ipython3",
   "version": "3.9.7"
  }
 },
 "nbformat": 4,
 "nbformat_minor": 5
}
